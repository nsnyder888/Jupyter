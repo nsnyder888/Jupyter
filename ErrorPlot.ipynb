{
 "cells": [
  {
   "cell_type": "code",
   "execution_count": 1,
   "id": "optical-sculpture",
   "metadata": {},
   "outputs": [
    {
     "data": {
      "image/png": "[encoded data removed]",
      "text/plain": [
       "<Figure size 432x288 with 1 Axes>"
      ]
     },
     "metadata": {
      "needs_background": "light"
     },
     "output_type": "display_data"
    }
   ],
   "source": [
    "import pandas as pd\n",
    "import matplotlib.pyplot as plt\n",
    "import numpy as np\n",
    "\n",
    "#Stuff for Jess\n",
    "#Make a fake data frame to work with\n",
    "df = {\n",
    "    'name': [\"John\", \"Stacy\", \"John\", \"Stacy\", \"Jack\", \"Jack\"], \n",
    "    'error': [0, 3, 4, 2, 1, 3]\n",
    "}\n",
    "#Convert to panda frame\n",
    "dataErrors = pd.DataFrame(df)\n",
    "#split data into mean and std column\n",
    "meanColumn = dataErrors.groupby(['name']).mean().reset_index()\n",
    "stdColumn = dataErrors.groupby(['name']).std().reset_index()\n",
    "frames = [meanColumn, stdColumn]\n",
    "pd.concat(frames)\n",
    "#Merge back together and rename\n",
    "finalFrame = pd.merge(meanColumn, stdColumn, on='name')\n",
    "finalFrame = finalFrame.rename(columns={\"error_x\": \"mean\", \"error_y\": \"std\"})\n",
    "\n",
    "#Plot the data\n",
    "plt.errorbar(finalFrame.loc[:,'name'], finalFrame.loc[:,'mean'], finalFrame.loc[:,'std'], linestyle='None', marker='*')\n",
    "\n",
    "plt.show()"
   ]
  },
  {
   "cell_type": "code",
   "execution_count": null,
   "id": "hungry-parker",
   "metadata": {},
   "outputs": [],
   "source": []
  }
 ],
 "metadata": {
  "kernelspec": {
   "display_name": "Python 3",
   "language": "python",
   "name": "python3"
  },
  "language_info": {
   "codemirror_mode": {
    "name": "ipython",
    "version": 3
   },
   "file_extension": ".py",
   "mimetype": "text/x-python",
   "name": "python",
   "nbconvert_exporter": "python",
   "pygments_lexer": "ipython3",
   "version": "3.8.3"
  }
 },
 "nbformat": 4,
 "nbformat_minor": 5
}
